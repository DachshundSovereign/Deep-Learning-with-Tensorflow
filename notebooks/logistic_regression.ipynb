{
 "cells": [
  {
   "cell_type": "markdown",
   "metadata": {},
   "source": [
    "## Logistic Regression\n",
    "#### Import package"
   ]
  },
  {
   "cell_type": "code",
   "execution_count": 1,
   "metadata": {
    "collapsed": false
   },
   "outputs": [],
   "source": [
    "import matplotlib.pyplot as plt\n",
    "import numpy as np\n",
    "import pandas as pd\n",
    "import tensorflow as tf\n",
    "\n",
    "from sklearn.datasets import load_iris\n",
    "from sklearn.model_selection import train_test_split\n",
    "\n",
    "%matplotlib inline"
   ]
  },
  {
   "cell_type": "markdown",
   "metadata": {},
   "source": [
    "#### Load dataset"
   ]
  },
  {
   "cell_type": "code",
   "execution_count": 2,
   "metadata": {
    "collapsed": true
   },
   "outputs": [],
   "source": [
    "iris = load_iris()\n",
    "iris_X, iris_y = iris.data, iris.target\n",
    "\n",
    "iris_y= pd.get_dummies(iris_y).values"
   ]
  },
  {
   "cell_type": "code",
   "execution_count": 3,
   "metadata": {
    "collapsed": true
   },
   "outputs": [],
   "source": [
    "n_features = iris_X.shape[1]\n",
    "n_classes = iris_y.shape[1]"
   ]
  },
  {
   "cell_type": "markdown",
   "metadata": {},
   "source": [
    "#### Define placeholders\n",
    "<b>warning</b>: 'None' means TensorFlow shouldn't expect a fixed number in that dimension"
   ]
  },
  {
   "cell_type": "code",
   "execution_count": 4,
   "metadata": {
    "collapsed": false
   },
   "outputs": [],
   "source": [
    "X = tf.placeholder(tf.float32, [None, n_features])\n",
    "y = tf.placeholder(tf.float32, [None, n_classes])"
   ]
  },
  {
   "cell_type": "markdown",
   "metadata": {},
   "source": [
    "#### Define logistic regression model\n",
    "`tf.sigmoid(x)`"
   ]
  },
  {
   "cell_type": "code",
   "execution_count": 5,
   "metadata": {
    "collapsed": true
   },
   "outputs": [],
   "source": [
    "weights = tf.Variable(tf.random_normal([n_features, n_classes], mean=0, stddev=0.01, name=\"weights\"))\n",
    "bias = tf.Variable(tf.random_normal([1, n_classes], mean=0, stddev=0.01, name=\"bias\"))\n",
    "\n",
    "X_weights = tf.matmul(X, weights, name=\"apply_weights\")\n",
    "X_weights_bias = tf.add(X_weights, bias, name=\"apply_bias\") \n",
    "activation_function = tf.sigmoid(X_weights_bias, name=\"activation\")"
   ]
  },
  {
   "cell_type": "markdown",
   "metadata": {},
   "source": [
    "#### Define training parameters\n",
    "`tf.train.exponential_decay()`"
   ]
  },
  {
   "cell_type": "code",
   "execution_count": 6,
   "metadata": {
    "collapsed": false
   },
   "outputs": [],
   "source": [
    "n_epochs = 1000\n",
    "learning_rate = tf.train.exponential_decay(learning_rate=0.0008, \n",
    "                                           global_step= 1,\n",
    "                                           decay_steps=iris_X.shape[0], \n",
    "                                           decay_rate= 0.95,\n",
    "                                           staircase=True)"
   ]
  },
  {
   "cell_type": "markdown",
   "metadata": {},
   "source": [
    "#### Define loss function and optimizer, initialize variables"
   ]
  },
  {
   "cell_type": "code",
   "execution_count": 7,
   "metadata": {
    "collapsed": false
   },
   "outputs": [],
   "source": [
    "loss = tf.nn.l2_loss(activation_function-y, name=\"squared_error_cost\")\n",
    "optimizer = tf.train.GradientDescentOptimizer(learning_rate).minimize(loss)\n",
    "init = tf.global_variables_initializer()"
   ]
  },
  {
   "cell_type": "markdown",
   "metadata": {},
   "source": [
    "#### Start training process"
   ]
  },
  {
   "cell_type": "code",
   "execution_count": 8,
   "metadata": {
    "collapsed": false
   },
   "outputs": [
    {
     "name": "stdout",
     "output_type": "stream",
     "text": [
      "Epoch:100 loss= 27.71\n",
      "Epoch:200 loss= 24.50\n",
      "Epoch:300 loss= 22.96\n",
      "Epoch:400 loss= 21.92\n",
      "Epoch:500 loss= 21.14\n",
      "Epoch:600 loss= 20.50\n",
      "Epoch:700 loss= 19.98\n",
      "Epoch:800 loss= 19.54\n",
      "Epoch:900 loss= 19.16\n",
      "Epoch:1000 loss= 18.83\n"
     ]
    }
   ],
   "source": [
    "with tf.Session() as session:\n",
    "    loss_values = []\n",
    "    coefficients = []\n",
    "    session.run(init)\n",
    "    \n",
    "    for epoch in range(n_epochs):\n",
    "        _, loss_val, w_val, b_val = session.run([optimizer, loss, weights, bias], feed_dict={X: iris_X, y: iris_y})\n",
    "        loss_values.append(loss_val)\n",
    "        coefficients.append([w_val, b_val])\n",
    "        if (epoch+1) % 100 == 0:\n",
    "            print('Epoch:{:03d}'.format(epoch+1), 'loss=', '{:.2f}'.format(loss_val))"
   ]
  }
 ],
 "metadata": {
  "kernelspec": {
   "display_name": "Python 3",
   "language": "python",
   "name": "python3"
  },
  "language_info": {
   "codemirror_mode": {
    "name": "ipython",
    "version": 3
   },
   "file_extension": ".py",
   "mimetype": "text/x-python",
   "name": "python",
   "nbconvert_exporter": "python",
   "pygments_lexer": "ipython3",
   "version": "3.5.6"
  }
 },
 "nbformat": 4,
 "nbformat_minor": 0
}
